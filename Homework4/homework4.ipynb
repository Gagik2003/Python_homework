{
  "nbformat": 4,
  "nbformat_minor": 0,
  "metadata": {
    "colab": {
      "provenance": []
    },
    "kernelspec": {
      "name": "python3",
      "display_name": "Python 3"
    },
    "language_info": {
      "name": "python"
    }
  },
  "cells": [
    {
      "cell_type": "markdown",
      "source": [
        "#1"
      ],
      "metadata": {
        "id": "yd7urr21u_9a"
      }
    },
    {
      "cell_type": "code",
      "execution_count": 1,
      "metadata": {
        "colab": {
          "base_uri": "https://localhost:8080/"
        },
        "id": "FV0gyenXuTgO",
        "outputId": "bcce2f48-c592-4b8c-831b-dc0c575c5d3f"
      },
      "outputs": [
        {
          "output_type": "stream",
          "name": "stdout",
          "text": [
            "Enter the first number: 1\n",
            "Enter the second number: 2\n",
            "Enter the third number: 3\n",
            "6\n"
          ]
        }
      ],
      "source": [
        "num1 = int(input(\"Enter the first number: \"))\n",
        "num2 = int(input(\"Enter the second number: \"))\n",
        "num3 = int(input(\"Enter the third number: \"))\n",
        "print(num1 + num2 + num3)"
      ]
    },
    {
      "cell_type": "markdown",
      "source": [
        "#2"
      ],
      "metadata": {
        "id": "WXzoFVGgvg0J"
      }
    },
    {
      "cell_type": "code",
      "source": [
        "b1 = int(input(\"Enter b1: \"))\n",
        "q = int(input(\"Enter q: \"))\n",
        "n = int(input(\"Enter the index: \"))\n",
        "print(b1*(q**(n-1)))"
      ],
      "metadata": {
        "colab": {
          "base_uri": "https://localhost:8080/"
        },
        "id": "W7JbLFhNvffR",
        "outputId": "6eff47ac-cafc-405e-b951-e5f19b6a534c"
      },
      "execution_count": 2,
      "outputs": [
        {
          "output_type": "stream",
          "name": "stdout",
          "text": [
            "Enter b1: 95\n",
            "Enter q: 3\n",
            "Enter the index: 2\n",
            "285\n"
          ]
        }
      ]
    },
    {
      "cell_type": "markdown",
      "source": [
        "#3"
      ],
      "metadata": {
        "id": "v_L6liUuwA1P"
      }
    },
    {
      "cell_type": "code",
      "source": [
        "num = int(input('Enter the number: '))\n",
        "if num%2:\n",
        "  print(f'The number {num} is odd')\n",
        "else:\n",
        "  print(f'The number {num} is even')"
      ],
      "metadata": {
        "colab": {
          "base_uri": "https://localhost:8080/"
        },
        "id": "D9Eg_Hc9vgEz",
        "outputId": "8455c852-09de-4fbe-a827-a6da20b9370b"
      },
      "execution_count": 4,
      "outputs": [
        {
          "output_type": "stream",
          "name": "stdout",
          "text": [
            "Enter the number: 7\n",
            "The number 7 is odd\n"
          ]
        }
      ]
    },
    {
      "cell_type": "markdown",
      "source": [
        "#4"
      ],
      "metadata": {
        "id": "-yZ61ckTw1Wu"
      }
    },
    {
      "cell_type": "code",
      "source": [
        "a = int(input(\"Enter a: \"))\n",
        "b = int(input(\"Enter b: \"))\n",
        "c = int(input(\"Enter c: \"))\n",
        "if a+c==2*b:\n",
        "  print('arithmetic progression')\n",
        "else:\n",
        "  print('no pattern found')"
      ],
      "metadata": {
        "colab": {
          "base_uri": "https://localhost:8080/"
        },
        "id": "goWBm61Tw0hI",
        "outputId": "a5cab838-87b5-4c6e-bfb1-5ac1c9f9bac5"
      },
      "execution_count": 6,
      "outputs": [
        {
          "output_type": "stream",
          "name": "stdout",
          "text": [
            "Enter a: 1\n",
            "Enter b: 2\n",
            "Enter c: 2\n",
            "no pattern found\n"
          ]
        }
      ]
    },
    {
      "cell_type": "markdown",
      "source": [
        "#5"
      ],
      "metadata": {
        "id": "Djr3GSz2xv7F"
      }
    },
    {
      "cell_type": "code",
      "source": [
        "num = int(input('Enter the number: '))\n",
        "print('Yes'*(num%161==0 and (num<100 or num>999))+'No'*(num%161!=0 or (num>99 and num<1000)))"
      ],
      "metadata": {
        "colab": {
          "base_uri": "https://localhost:8080/"
        },
        "id": "w58GCoIPxuLc",
        "outputId": "43c0b445-1ef6-48b7-cfc7-def3a0c37e49"
      },
      "execution_count": 11,
      "outputs": [
        {
          "output_type": "stream",
          "name": "stdout",
          "text": [
            "Enter the number: 161\n",
            "No\n"
          ]
        }
      ]
    },
    {
      "cell_type": "markdown",
      "source": [
        "#6"
      ],
      "metadata": {
        "id": "jmBI9BbCzWL1"
      }
    },
    {
      "cell_type": "code",
      "source": [
        "a = int(input(\"Enter a: \"))\n",
        "b = int(input(\"Enter b: \"))\n",
        "c = int(input(\"Enter c: \"))\n",
        "D = b**2-4*a*c\n",
        "if D>0:\n",
        "  print((-b+D**(1/2))/(2*a))\n",
        "  print((-b-D**(1/2))/(2*a))\n",
        "elif D==0:\n",
        "  print(-b/2*a)\n",
        "else:\n",
        "  print('No solutions')"
      ],
      "metadata": {
        "colab": {
          "base_uri": "https://localhost:8080/"
        },
        "id": "ba2yEs7QwDwt",
        "outputId": "049e8388-8d7f-4801-e30d-8847853eaed5"
      },
      "execution_count": 15,
      "outputs": [
        {
          "output_type": "stream",
          "name": "stdout",
          "text": [
            "Enter a: 48\n",
            "Enter b: 58\n",
            "Enter c: 5\n",
            "-0.09343122199453073\n",
            "-1.1149021113388027\n"
          ]
        }
      ]
    },
    {
      "cell_type": "markdown",
      "source": [
        "#8"
      ],
      "metadata": {
        "id": "RDnnJTWd12h4"
      }
    },
    {
      "cell_type": "code",
      "source": [
        "num = int(input('Enter the number: '))\n",
        "for i in range(1, 11):\n",
        "  print(f'{num} * {i} = {num*i}')"
      ],
      "metadata": {
        "colab": {
          "base_uri": "https://localhost:8080/"
        },
        "id": "WIoyX19cwDzQ",
        "outputId": "7d560591-3239-4b13-a7d1-0df7ce48e518"
      },
      "execution_count": 17,
      "outputs": [
        {
          "output_type": "stream",
          "name": "stdout",
          "text": [
            "Enter the number: 7\n",
            "7 * 1 = 7\n",
            "7 * 2 = 14\n",
            "7 * 3 = 21\n",
            "7 * 4 = 28\n",
            "7 * 5 = 35\n",
            "7 * 6 = 42\n",
            "7 * 7 = 49\n",
            "7 * 8 = 56\n",
            "7 * 9 = 63\n",
            "7 * 10 = 70\n"
          ]
        }
      ]
    },
    {
      "cell_type": "markdown",
      "source": [
        "#9"
      ],
      "metadata": {
        "id": "sgzNmmr_3Pu0"
      }
    },
    {
      "cell_type": "code",
      "source": [
        "num = int(input('Enter the list size:'))\n",
        "l = []\n",
        "for i in range(num):\n",
        "  l.append(int(input('')))\n",
        "print(l)"
      ],
      "metadata": {
        "colab": {
          "base_uri": "https://localhost:8080/"
        },
        "id": "JV9clT08wD1n",
        "outputId": "b3908e22-a157-4152-ca92-2b59cb2b3385"
      },
      "execution_count": 20,
      "outputs": [
        {
          "output_type": "stream",
          "name": "stdout",
          "text": [
            "Enter the list size:7\n",
            "1\n",
            "2\n",
            "3\n",
            "4\n",
            "5\n",
            "6\n",
            "7\n",
            "[1, 2, 3, 4, 5, 6, 7]\n"
          ]
        }
      ]
    },
    {
      "cell_type": "markdown",
      "source": [
        "#10"
      ],
      "metadata": {
        "id": "qDiYWgjK7lJZ"
      }
    },
    {
      "cell_type": "code",
      "source": [
        "num = int(input('Enter the list size:'))\n",
        "for i in range(1, num+1):\n",
        "  if num%i == 0:\n",
        "    print(i)"
      ],
      "metadata": {
        "colab": {
          "base_uri": "https://localhost:8080/"
        },
        "id": "LwL3cbbKwD4J",
        "outputId": "efff2283-a975-4140-fa60-514ffecbf613"
      },
      "execution_count": 23,
      "outputs": [
        {
          "output_type": "stream",
          "name": "stdout",
          "text": [
            "Enter the list size:16\n",
            "1\n",
            "2\n",
            "4\n",
            "8\n",
            "16\n"
          ]
        }
      ]
    },
    {
      "cell_type": "markdown",
      "source": [
        "#11"
      ],
      "metadata": {
        "id": "CU5SgVJH9y8S"
      }
    },
    {
      "cell_type": "code",
      "source": [
        "num = int(input('Enter the list size:'))\n",
        "a = None\n",
        "n = 0\n",
        "for i in range(num):\n",
        "  x = int(input())\n",
        "  if a is None:\n",
        "    a = x\n",
        "    continue\n",
        "  if x>a:\n",
        "    n += 1\n",
        "  a = x\n",
        "print(n)"
      ],
      "metadata": {
        "colab": {
          "base_uri": "https://localhost:8080/"
        },
        "id": "ZImdKd6UwD6e",
        "outputId": "6c1624bc-b809-45a3-f177-124d9498dad3"
      },
      "execution_count": 27,
      "outputs": [
        {
          "output_type": "stream",
          "name": "stdout",
          "text": [
            "Enter the list size:6\n",
            "6000\n",
            "2000\n",
            "1500\n",
            "4000\n",
            "4500\n",
            "3000\n",
            "2\n"
          ]
        }
      ]
    },
    {
      "cell_type": "markdown",
      "source": [
        "#12"
      ],
      "metadata": {
        "id": "CjX-kIBUClKp"
      }
    },
    {
      "cell_type": "code",
      "source": [
        "num = int(input('Enter the list size:'))\n",
        "l = []\n",
        "for i in range(num):\n",
        "  l.append(str(input()))\n",
        "for i in range(len(l)-1, -1, -1):\n",
        "  print(l[i])"
      ],
      "metadata": {
        "colab": {
          "base_uri": "https://localhost:8080/"
        },
        "id": "uMVesAKVwD8t",
        "outputId": "6b70a59f-ad04-4c03-d11d-cb7ee1d4575e"
      },
      "execution_count": 29,
      "outputs": [
        {
          "output_type": "stream",
          "name": "stdout",
          "text": [
            "Enter the list size:3\n",
            "a\n",
            "aa\n",
            "aaa\n",
            "aaa\n",
            "aa\n",
            "a\n"
          ]
        }
      ]
    },
    {
      "cell_type": "markdown",
      "source": [
        "#13"
      ],
      "metadata": {
        "id": "2uDPe3lyDroa"
      }
    },
    {
      "cell_type": "code",
      "source": [
        "n = int(input('Enter n:'))\n",
        "if n==0 or n==1:\n",
        "  print(1)\n",
        "else:\n",
        "  f = 1\n",
        "  for i in range(1, n+1):\n",
        "    f *= i\n",
        "  print(f)"
      ],
      "metadata": {
        "colab": {
          "base_uri": "https://localhost:8080/"
        },
        "id": "_EOWmaLWwD_D",
        "outputId": "812e0d61-2999-4485-84f3-a71191e855f0"
      },
      "execution_count": 34,
      "outputs": [
        {
          "output_type": "stream",
          "name": "stdout",
          "text": [
            "Enter n:5\n",
            "120\n"
          ]
        }
      ]
    },
    {
      "cell_type": "markdown",
      "source": [
        "#14"
      ],
      "metadata": {
        "id": "_SwfvBjEFzVK"
      }
    },
    {
      "cell_type": "code",
      "source": [
        "n = int(input('Enter n:'))\n",
        "if n>=1:\n",
        "  for i in range(1, n+1):\n",
        "    if i**2>n:\n",
        "      break\n",
        "    else:\n",
        "      print(i**2, end=' ')"
      ],
      "metadata": {
        "colab": {
          "base_uri": "https://localhost:8080/"
        },
        "id": "MMMjzTKAwEBc",
        "outputId": "12b4145a-7ab7-4bfd-8995-80b75778fdc6"
      },
      "execution_count": 39,
      "outputs": [
        {
          "output_type": "stream",
          "name": "stdout",
          "text": [
            "Enter n:15\n",
            "1 4 9 "
          ]
        }
      ]
    },
    {
      "cell_type": "markdown",
      "source": [
        "#15"
      ],
      "metadata": {
        "id": "XY4_tQFTHiA7"
      }
    },
    {
      "cell_type": "code",
      "source": [
        "n = int(input('Enter n:'))\n",
        "if n>=1:\n",
        "  for i in range(n):\n",
        "    if 2**i>n:\n",
        "      break\n",
        "    else:\n",
        "      print(2**i, end=' ')"
      ],
      "metadata": {
        "colab": {
          "base_uri": "https://localhost:8080/"
        },
        "id": "7aIFacJ1wEEE",
        "outputId": "fa0ac5aa-7ab4-42dc-f0d5-78bf5fd7d0d3"
      },
      "execution_count": 43,
      "outputs": [
        {
          "output_type": "stream",
          "name": "stdout",
          "text": [
            "Enter n:1\n",
            "1 "
          ]
        }
      ]
    },
    {
      "cell_type": "markdown",
      "source": [],
      "metadata": {
        "id": "7ox_6P-kIE64"
      }
    },
    {
      "cell_type": "markdown",
      "source": [
        "#16"
      ],
      "metadata": {
        "id": "iuGAjzTtIFuu"
      }
    },
    {
      "cell_type": "code",
      "source": [
        "n = int(input('Enter n:'))\n",
        "while n!=1:\n",
        "  if n%2:\n",
        "    print('No')\n",
        "    break\n",
        "  n /= 2\n",
        "else:\n",
        "  print('Yes')"
      ],
      "metadata": {
        "colab": {
          "base_uri": "https://localhost:8080/"
        },
        "id": "bEmUJotRwEGb",
        "outputId": "8565e86b-db19-452d-c5e4-e587f9195533"
      },
      "execution_count": 52,
      "outputs": [
        {
          "output_type": "stream",
          "name": "stdout",
          "text": [
            "Enter n:256\n",
            "Yes\n"
          ]
        }
      ]
    },
    {
      "cell_type": "markdown",
      "source": [
        "#17"
      ],
      "metadata": {
        "id": "k_hYgDIYJRtS"
      }
    },
    {
      "cell_type": "code",
      "source": [
        "while True:\n",
        "  s = input()\n",
        "  if s.lower()=='end' or s.lower()=='finish' or s.lower()=='done':\n",
        "    break\n",
        "  print(s)\n",
        "    "
      ],
      "metadata": {
        "colab": {
          "base_uri": "https://localhost:8080/"
        },
        "id": "TCjfg_7SwEIs",
        "outputId": "afb376f2-61e9-44d2-ce79-5ecd43d79b29"
      },
      "execution_count": 54,
      "outputs": [
        {
          "name": "stdout",
          "output_type": "stream",
          "text": [
            "jcndc\n",
            "jcndc\n",
            "jncjdcn\n",
            "jncjdcn\n",
            "idncsnc\n",
            "idncsnc\n",
            "dONe\n"
          ]
        }
      ]
    },
    {
      "cell_type": "markdown",
      "source": [
        "#18"
      ],
      "metadata": {
        "id": "F1GC6R3CJ5RX"
      }
    },
    {
      "cell_type": "code",
      "source": [
        "s = 0\n",
        "while True:\n",
        "  x = int(input())\n",
        "  if x>=0:\n",
        "    break\n",
        "  s += x\n",
        "print('The sum is', s)"
      ],
      "metadata": {
        "colab": {
          "base_uri": "https://localhost:8080/"
        },
        "id": "jTy44y0EwELS",
        "outputId": "dd5496b6-5abc-43c4-86a2-1da235a8527a"
      },
      "execution_count": 57,
      "outputs": [
        {
          "output_type": "stream",
          "name": "stdout",
          "text": [
            "-5\n",
            "-6\n",
            "-8\n",
            "6\n",
            "The sum is -19\n"
          ]
        }
      ]
    },
    {
      "cell_type": "markdown",
      "source": [
        "#19"
      ],
      "metadata": {
        "id": "Bn4hflc6K_0L"
      }
    },
    {
      "cell_type": "code",
      "source": [
        "int(input()[::-1])*2"
      ],
      "metadata": {
        "colab": {
          "base_uri": "https://localhost:8080/"
        },
        "id": "hlJyeVmULA2s",
        "outputId": "7e159a3d-0b35-44a4-f265-9d4d6a3a60bc"
      },
      "execution_count": 59,
      "outputs": [
        {
          "name": "stdout",
          "output_type": "stream",
          "text": [
            "123\n"
          ]
        },
        {
          "output_type": "execute_result",
          "data": {
            "text/plain": [
              "642"
            ]
          },
          "metadata": {},
          "execution_count": 59
        }
      ]
    },
    {
      "cell_type": "markdown",
      "source": [
        "#20"
      ],
      "metadata": {
        "id": "s_2bcFaULbz6"
      }
    },
    {
      "cell_type": "code",
      "source": [
        "s = input()\n",
        "a = -1\n",
        "for i in s:\n",
        "  if int(i)<a:\n",
        "    print('No')\n",
        "    break\n",
        "  a = int(i)\n",
        "else:\n",
        "  print('Yes')"
      ],
      "metadata": {
        "colab": {
          "base_uri": "https://localhost:8080/"
        },
        "id": "HpHcj66PLa92",
        "outputId": "b32db737-6326-4840-cf97-601500b52e0b"
      },
      "execution_count": 62,
      "outputs": [
        {
          "output_type": "stream",
          "name": "stdout",
          "text": [
            "111222333\n",
            "Yes\n"
          ]
        }
      ]
    }
  ]
}