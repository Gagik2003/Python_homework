{
  "nbformat": 4,
  "nbformat_minor": 0,
  "metadata": {
    "colab": {
      "provenance": []
    },
    "kernelspec": {
      "name": "python3",
      "display_name": "Python 3"
    },
    "language_info": {
      "name": "python"
    }
  },
  "cells": [
    {
      "cell_type": "markdown",
      "source": [
        "#1"
      ],
      "metadata": {
        "id": "t9XPMCdihkyv"
      }
    },
    {
      "cell_type": "code",
      "execution_count": null,
      "metadata": {
        "id": "jWxO_d9ahSp6",
        "colab": {
          "base_uri": "https://localhost:8080/"
        },
        "outputId": "d4eb9a88-1675-4dc6-cf36-2b4d099f9f20"
      },
      "outputs": [
        {
          "output_type": "stream",
          "name": "stdout",
          "text": [
            "Python 3.8.10\n"
          ]
        }
      ],
      "source": [
        "! python --version"
      ]
    },
    {
      "cell_type": "markdown",
      "source": [
        "#2"
      ],
      "metadata": {
        "id": "spNigvmdhtcL"
      }
    },
    {
      "cell_type": "code",
      "source": [
        "import datetime\n",
        "\n",
        "current_time = datetime.datetime.now()\n",
        "\n",
        "print(\"Current date and time:\")\n",
        "print(current_time.strftime(\"%Y-%m-%d %H:%M:%S\"))"
      ],
      "metadata": {
        "colab": {
          "base_uri": "https://localhost:8080/"
        },
        "id": "TOLHFVQ8iZpt",
        "outputId": "0d300d61-e014-4053-950a-805eafed9b9a"
      },
      "execution_count": null,
      "outputs": [
        {
          "output_type": "stream",
          "name": "stdout",
          "text": [
            "Current date and time:\n",
            "2023-02-25 09:49:59\n"
          ]
        }
      ]
    },
    {
      "cell_type": "markdown",
      "source": [
        "#3"
      ],
      "metadata": {
        "id": "VfY7fuKzhtpT"
      }
    },
    {
      "cell_type": "code",
      "source": [
        "import math\n",
        "\n",
        "r = float(input('Enter the circle radius: '))\n",
        "\n",
        "area = math.pi * r ** 2\n",
        "\n",
        "print(f\"r = {r}\")\n",
        "print(f\"Area = {area}\")"
      ],
      "metadata": {
        "colab": {
          "base_uri": "https://localhost:8080/"
        },
        "id": "o5xEKF8qigKi",
        "outputId": "5340197e-a32d-4923-a439-a03a050f13b8"
      },
      "execution_count": null,
      "outputs": [
        {
          "output_type": "stream",
          "name": "stdout",
          "text": [
            "Enter the circle radius: 1.1\n",
            "r = 1.1\n",
            "Area = 3.8013271108436504\n"
          ]
        }
      ]
    },
    {
      "cell_type": "markdown",
      "source": [
        "#4"
      ],
      "metadata": {
        "id": "ivQWvZhnht0f"
      }
    },
    {
      "cell_type": "code",
      "source": [
        "filename = input(\"Enter a filename: \")\n",
        "\n",
        "name, extension = filename.split('.')\n",
        "\n",
        "print(extension)"
      ],
      "metadata": {
        "colab": {
          "base_uri": "https://localhost:8080/"
        },
        "id": "26SQ4vIUjmsX",
        "outputId": "b6044797-a3c6-47b4-b3b1-77983c5506a2"
      },
      "execution_count": null,
      "outputs": [
        {
          "output_type": "stream",
          "name": "stdout",
          "text": [
            "Enter a filename: abc.java\n",
            "java\n"
          ]
        }
      ]
    },
    {
      "cell_type": "markdown",
      "source": [
        "#5"
      ],
      "metadata": {
        "id": "VCCFkyiwhuBp"
      }
    },
    {
      "cell_type": "code",
      "source": [
        "color_list = [\"Red\", \"Green\", \"White\", \"Black\"]\n",
        "\n",
        "first_color = color_list[0]\n",
        "last_color = color_list[-1]\n",
        "\n",
        "print(\"First color:\", first_color)\n",
        "print(\"Last color:\", last_color)"
      ],
      "metadata": {
        "colab": {
          "base_uri": "https://localhost:8080/"
        },
        "id": "OP6HtACxkC69",
        "outputId": "1d8605f5-1c4d-402e-fa7e-d880509496ad"
      },
      "execution_count": null,
      "outputs": [
        {
          "output_type": "stream",
          "name": "stdout",
          "text": [
            "First color: Red\n",
            "Last color: Black\n"
          ]
        }
      ]
    },
    {
      "cell_type": "markdown",
      "source": [
        "#6"
      ],
      "metadata": {
        "id": "CTu_MmywhuOD"
      }
    },
    {
      "cell_type": "code",
      "source": [
        "exam_st_date = (11, 12, 2014)\n",
        "\n",
        "print(f\"The examination will start from: {exam_st_date[0]} / {exam_st_date[1]} / {exam_st_date[2]}\")"
      ],
      "metadata": {
        "colab": {
          "base_uri": "https://localhost:8080/"
        },
        "id": "Vx2kzRbQmQGK",
        "outputId": "7e8ae9b1-7f1c-4912-c507-157e84bbdd9f"
      },
      "execution_count": null,
      "outputs": [
        {
          "output_type": "stream",
          "name": "stdout",
          "text": [
            "The examination will start from: 11 / 12 / 2014\n"
          ]
        }
      ]
    },
    {
      "cell_type": "markdown",
      "source": [
        "#7"
      ],
      "metadata": {
        "id": "HDUpnomwhua6"
      }
    },
    {
      "cell_type": "code",
      "source": [
        "n = int(input(\"Enter an integer: \"))\n",
        "\n",
        "nn = n * 10 + n\n",
        "nnn = nn * 10 + n\n",
        "\n",
        "print(f\"{n} + {nn} + {nnn} = {n + nn + nnn}\")"
      ],
      "metadata": {
        "colab": {
          "base_uri": "https://localhost:8080/"
        },
        "id": "r_PMLRcwm2a4",
        "outputId": "517096f9-8b85-4a89-868f-cd67cb83f859"
      },
      "execution_count": null,
      "outputs": [
        {
          "output_type": "stream",
          "name": "stdout",
          "text": [
            "Enter an integer: 5\n",
            "5 + 55 + 555 = 615\n"
          ]
        }
      ]
    },
    {
      "cell_type": "markdown",
      "source": [
        "#8"
      ],
      "metadata": {
        "id": "kDUDdfyPhuoU"
      }
    },
    {
      "cell_type": "code",
      "source": [
        "num = int(input(\"Enter a number: \"))\n",
        "\n",
        "if num % 2 == 0:\n",
        "    print(f\"{num} is even\")\n",
        "else:\n",
        "    print(f\"{num} is odd\")"
      ],
      "metadata": {
        "colab": {
          "base_uri": "https://localhost:8080/"
        },
        "id": "NNjIo3tCnfLN",
        "outputId": "6f0e0dc0-34fb-4e99-e5ec-ef533472ae7e"
      },
      "execution_count": null,
      "outputs": [
        {
          "output_type": "stream",
          "name": "stdout",
          "text": [
            "Enter a number: 15\n",
            "15 is odd\n"
          ]
        }
      ]
    },
    {
      "cell_type": "markdown",
      "source": [
        "#9"
      ],
      "metadata": {
        "id": "tsn5faQvhuzQ"
      }
    },
    {
      "cell_type": "code",
      "source": [
        "value = int(input(\"Enter a value to search for: \"))\n",
        "group = [1, 5, 8, 3]\n",
        "\n",
        "print(value in group)"
      ],
      "metadata": {
        "colab": {
          "base_uri": "https://localhost:8080/"
        },
        "id": "iWg7BRCvnxox",
        "outputId": "dd83f732-d58a-4760-ad25-f6c91fa01a67"
      },
      "execution_count": null,
      "outputs": [
        {
          "output_type": "stream",
          "name": "stdout",
          "text": [
            "Enter a value to search for: 3\n",
            "True\n"
          ]
        }
      ]
    },
    {
      "cell_type": "markdown",
      "source": [
        "#10"
      ],
      "metadata": {
        "id": "J9lb_DJkhu_j"
      }
    },
    {
      "cell_type": "code",
      "source": [
        "nums = [2, 3, 6, 5]\n",
        "\n",
        "for i in nums:\n",
        "    print(\"*\" * i)"
      ],
      "metadata": {
        "colab": {
          "base_uri": "https://localhost:8080/"
        },
        "id": "8TvxM8wwoHGp",
        "outputId": "160363d0-306f-4019-f12b-cc6aac2875a1"
      },
      "execution_count": null,
      "outputs": [
        {
          "output_type": "stream",
          "name": "stdout",
          "text": [
            "**\n",
            "***\n",
            "******\n",
            "*****\n"
          ]
        }
      ]
    },
    {
      "cell_type": "markdown",
      "source": [
        "#11"
      ],
      "metadata": {
        "id": "qOvOTmxFhvLA"
      }
    },
    {
      "cell_type": "code",
      "source": [
        "color_list_1 = set([\"White\", \"Black\", \"Red\"])\n",
        "color_list_2 = set([\"Red\", \"Green\"])\n",
        "\n",
        "print(color_list_1.difference(color_list_2))"
      ],
      "metadata": {
        "colab": {
          "base_uri": "https://localhost:8080/"
        },
        "id": "y2XKxkF0oVyg",
        "outputId": "68fc5a8f-e83c-4032-eff3-51ff8daafae6"
      },
      "execution_count": null,
      "outputs": [
        {
          "output_type": "stream",
          "name": "stdout",
          "text": [
            "{'Black', 'White'}\n"
          ]
        }
      ]
    },
    {
      "cell_type": "markdown",
      "source": [
        "#12"
      ],
      "metadata": {
        "id": "8GiCyOSphvWQ"
      }
    },
    {
      "cell_type": "code",
      "source": [
        "def concatenate_list(list):\n",
        "    string = ''\n",
        "    for i in list:\n",
        "      string += str(i)\n",
        "    return string\n",
        "\n",
        "concatenate_list([5, 6, 7])"
      ],
      "metadata": {
        "colab": {
          "base_uri": "https://localhost:8080/",
          "height": 36
        },
        "id": "-9YLYme1pnCj",
        "outputId": "2bc22335-6a93-4a14-de23-eb0a01dadf10"
      },
      "execution_count": null,
      "outputs": [
        {
          "output_type": "execute_result",
          "data": {
            "text/plain": [
              "'567'"
            ],
            "application/vnd.google.colaboratory.intrinsic+json": {
              "type": "string"
            }
          },
          "metadata": {},
          "execution_count": 106
        }
      ]
    },
    {
      "cell_type": "markdown",
      "source": [
        "#13"
      ],
      "metadata": {
        "id": "yrUK0RfEhvhP"
      }
    },
    {
      "cell_type": "code",
      "source": [
        "def gcd(a, b):\n",
        "    while b != 0:\n",
        "        c = b\n",
        "        b = a % b\n",
        "        a = c\n",
        "    return a\n",
        "\n",
        "gcd(198, 99)"
      ],
      "metadata": {
        "colab": {
          "base_uri": "https://localhost:8080/"
        },
        "id": "kDtU6_UNq0Uv",
        "outputId": "a0590446-0b59-4f71-eccb-8dbbab3adde8"
      },
      "execution_count": null,
      "outputs": [
        {
          "output_type": "execute_result",
          "data": {
            "text/plain": [
              "99"
            ]
          },
          "metadata": {},
          "execution_count": 107
        }
      ]
    },
    {
      "cell_type": "markdown",
      "source": [
        "#14"
      ],
      "metadata": {
        "id": "vz23tzlVhvtp"
      }
    },
    {
      "cell_type": "code",
      "source": [
        "def lcm(a, b):\n",
        "    gcd_value = gcd(a, b)\n",
        "    return (a * b) // gcd_value\n",
        "\n",
        "lcm(54, 100)"
      ],
      "metadata": {
        "colab": {
          "base_uri": "https://localhost:8080/"
        },
        "id": "zLMtq5DbspIl",
        "outputId": "210e59cb-6b81-469f-feae-92016b75f35b"
      },
      "execution_count": null,
      "outputs": [
        {
          "output_type": "execute_result",
          "data": {
            "text/plain": [
              "2700"
            ]
          },
          "metadata": {},
          "execution_count": 108
        }
      ]
    },
    {
      "cell_type": "markdown",
      "source": [
        "#15"
      ],
      "metadata": {
        "id": "VdBWyvv6hv35"
      }
    },
    {
      "cell_type": "code",
      "source": [
        "def distance(x1, y1, x2, y2):\n",
        "    return math.sqrt((x2 - x1) ** 2 + (y2 - y1) ** 2)\n",
        "\n",
        "distance(0, 0, 1, 1)"
      ],
      "metadata": {
        "colab": {
          "base_uri": "https://localhost:8080/"
        },
        "id": "UgHZuvBUtHGu",
        "outputId": "babcebb0-e5cf-4e2f-ce3a-c85b958060b7"
      },
      "execution_count": null,
      "outputs": [
        {
          "output_type": "execute_result",
          "data": {
            "text/plain": [
              "1.4142135623730951"
            ]
          },
          "metadata": {},
          "execution_count": 109
        }
      ]
    },
    {
      "cell_type": "markdown",
      "source": [
        "#16"
      ],
      "metadata": {
        "id": "Qe6rOdY2hwCu"
      }
    },
    {
      "cell_type": "code",
      "source": [
        "import os\n",
        "\n",
        "os.path.isfile('Gago.py')"
      ],
      "metadata": {
        "colab": {
          "base_uri": "https://localhost:8080/"
        },
        "id": "YqXC2A-TtUIn",
        "outputId": "627d2c5e-1096-4169-a713-2b2b35d54d6c"
      },
      "execution_count": null,
      "outputs": [
        {
          "output_type": "execute_result",
          "data": {
            "text/plain": [
              "False"
            ]
          },
          "metadata": {},
          "execution_count": 110
        }
      ]
    },
    {
      "cell_type": "markdown",
      "source": [
        "#17"
      ],
      "metadata": {
        "id": "1hUFARfuhwN4"
      }
    },
    {
      "cell_type": "code",
      "source": [
        "import struct\n",
        "\n",
        "struct.calcsize(\"P\") * 8"
      ],
      "metadata": {
        "colab": {
          "base_uri": "https://localhost:8080/"
        },
        "id": "LZBPB0v8tlLh",
        "outputId": "b6a5b364-4aae-4f0d-e9f0-0fe667f7ac5f"
      },
      "execution_count": null,
      "outputs": [
        {
          "output_type": "execute_result",
          "data": {
            "text/plain": [
              "64"
            ]
          },
          "metadata": {},
          "execution_count": 111
        }
      ]
    },
    {
      "cell_type": "markdown",
      "source": [
        "#18"
      ],
      "metadata": {
        "id": "28s6mhnAhwZT"
      }
    },
    {
      "cell_type": "code",
      "source": [
        "import os\n",
        "import platform\n",
        "\n",
        "print(\"Operating system name:\", os.name)\n",
        "print(\"Platform name:\", platform.system())\n",
        "print(\"Release information:\", platform.release())"
      ],
      "metadata": {
        "colab": {
          "base_uri": "https://localhost:8080/"
        },
        "id": "XYcW6Poyt_29",
        "outputId": "3a961682-b61c-4b59-e1a1-a636e86d8993"
      },
      "execution_count": null,
      "outputs": [
        {
          "output_type": "stream",
          "name": "stdout",
          "text": [
            "Operating system name: posix\n",
            "Platform name: Linux\n",
            "Release information: 5.10.147+\n"
          ]
        }
      ]
    },
    {
      "cell_type": "markdown",
      "source": [
        "#19"
      ],
      "metadata": {
        "id": "ctgKLLsHhwjo"
      }
    },
    {
      "cell_type": "code",
      "source": [
        "import subprocess\n",
        "\n",
        "result = subprocess.run([\"ls\"], stdout=subprocess.PIPE)\n",
        "print(result.stdout.decode())"
      ],
      "metadata": {
        "colab": {
          "base_uri": "https://localhost:8080/"
        },
        "id": "ZPklT0xzua7X",
        "outputId": "26262dba-b8d0-4382-a07d-68a571b43ac9"
      },
      "execution_count": null,
      "outputs": [
        {
          "output_type": "stream",
          "name": "stdout",
          "text": [
            "sample_data\n",
            "\n"
          ]
        }
      ]
    },
    {
      "cell_type": "markdown",
      "source": [
        "#20"
      ],
      "metadata": {
        "id": "Q4t4RJL3hwuH"
      }
    },
    {
      "cell_type": "code",
      "source": [
        "import multiprocessing\n",
        "\n",
        "print(\"Number of CPUs used:\", multiprocessing.cpu_count())"
      ],
      "metadata": {
        "colab": {
          "base_uri": "https://localhost:8080/"
        },
        "id": "HqhHvGs0vSeu",
        "outputId": "b6be1a59-67b7-4832-d464-228f043c4dea"
      },
      "execution_count": null,
      "outputs": [
        {
          "output_type": "stream",
          "name": "stdout",
          "text": [
            "Number of CPUs used: 2\n"
          ]
        }
      ]
    },
    {
      "cell_type": "markdown",
      "source": [
        "#21"
      ],
      "metadata": {
        "id": "CwG1A8xIhw5B"
      }
    },
    {
      "cell_type": "code",
      "source": [
        "os.listdir('/content/sample_data')"
      ],
      "metadata": {
        "colab": {
          "base_uri": "https://localhost:8080/"
        },
        "id": "lMsuOEJ0von9",
        "outputId": "5e404157-70db-4e59-9ab7-1ffcb70b4092"
      },
      "execution_count": null,
      "outputs": [
        {
          "output_type": "execute_result",
          "data": {
            "text/plain": [
              "['README.md',\n",
              " 'anscombe.json',\n",
              " 'california_housing_train.csv',\n",
              " 'california_housing_test.csv',\n",
              " 'mnist_test.csv',\n",
              " 'mnist_train_small.csv']"
            ]
          },
          "metadata": {},
          "execution_count": 115
        }
      ]
    },
    {
      "cell_type": "markdown",
      "source": [
        "#22"
      ],
      "metadata": {
        "id": "7KoybRYVhxC-"
      }
    },
    {
      "cell_type": "code",
      "source": [
        "def sort_three_integers(a, b, c):\n",
        "    min_value = min(a, b, c)\n",
        "    max_value = max(a, b, c)\n",
        "    middle_value = a + b + c - min_value - max_value\n",
        "    return min_value, middle_value, max_value\n",
        "\n",
        "sort_three_integers(1, -1, 99)"
      ],
      "metadata": {
        "colab": {
          "base_uri": "https://localhost:8080/"
        },
        "id": "4Agai5a4wklH",
        "outputId": "fd1e7037-ff4e-43c4-c299-107bb2e2686b"
      },
      "execution_count": null,
      "outputs": [
        {
          "output_type": "execute_result",
          "data": {
            "text/plain": [
              "(-1, 1, 99)"
            ]
          },
          "metadata": {},
          "execution_count": 116
        }
      ]
    },
    {
      "cell_type": "markdown",
      "source": [
        "#23"
      ],
      "metadata": {
        "id": "wsKkWMWchxNs"
      }
    },
    {
      "cell_type": "code",
      "source": [
        "import os\n",
        "\n",
        "file_list = os.listdir('/content/sample_data')\n",
        "creation_times = [(file, os.path.getctime(os.path.join('/content/sample_data', file))) for file in file_list]\n",
        "sorted_files = sorted(creation_times, key=lambda x: x[1])\n",
        "\n",
        "l = []\n",
        "for file, _ in sorted_files:\n",
        "    l.append(file)\n",
        "print(l)"
      ],
      "metadata": {
        "colab": {
          "base_uri": "https://localhost:8080/"
        },
        "id": "fF5fmCB2yCM8",
        "outputId": "6ad9081c-7316-4603-c1e6-28e5163b0dba"
      },
      "execution_count": null,
      "outputs": [
        {
          "output_type": "stream",
          "name": "stdout",
          "text": [
            "['README.md', 'anscombe.json', 'california_housing_test.csv', 'california_housing_train.csv', 'mnist_test.csv', 'mnist_train_small.csv']\n"
          ]
        }
      ]
    },
    {
      "cell_type": "markdown",
      "source": [
        "#24"
      ],
      "metadata": {
        "id": "GQywieyYhxXi"
      }
    },
    {
      "cell_type": "code",
      "source": [
        "def all_greater_than(numbers, n):\n",
        "    for num in numbers:\n",
        "        if num <= n:\n",
        "            return False\n",
        "    return True\n",
        "\n",
        "print(all_greater_than([10, 20, 30, 40, 50], 5))\n",
        "print(all_greater_than([10, 20, 30, 40, 50], 25))"
      ],
      "metadata": {
        "colab": {
          "base_uri": "https://localhost:8080/"
        },
        "id": "aUl4zWkkzbtK",
        "outputId": "01895964-f28b-4476-bf45-0341f16d5ce3"
      },
      "execution_count": null,
      "outputs": [
        {
          "output_type": "stream",
          "name": "stdout",
          "text": [
            "True\n",
            "False\n"
          ]
        }
      ]
    },
    {
      "cell_type": "markdown",
      "source": [
        "#25"
      ],
      "metadata": {
        "id": "ArGh_yHzhxiP"
      }
    },
    {
      "cell_type": "code",
      "source": [
        "# def count_occurrences(string, char):\n",
        "#     return string.count(char)\n",
        "\n",
        "# count_occurrences('Hello World!!!', 'l') \n",
        "\n",
        "'Hello World!!!'.count('l')"
      ],
      "metadata": {
        "colab": {
          "base_uri": "https://localhost:8080/"
        },
        "id": "sE7TUoXLz6Dk",
        "outputId": "73e286dc-23d6-4ce7-eefd-7f5bf855f106"
      },
      "execution_count": null,
      "outputs": [
        {
          "output_type": "execute_result",
          "data": {
            "text/plain": [
              "3"
            ]
          },
          "metadata": {},
          "execution_count": 119
        }
      ]
    },
    {
      "cell_type": "markdown",
      "source": [
        "#26"
      ],
      "metadata": {
        "id": "n35NOCnAhxsI"
      }
    },
    {
      "cell_type": "code",
      "source": [
        "os.path.basename('/users/system1/student1/homework-1.py')"
      ],
      "metadata": {
        "colab": {
          "base_uri": "https://localhost:8080/",
          "height": 36
        },
        "id": "BH_V1g9605dB",
        "outputId": "0deed37f-419f-4eee-d348-2f3ef865e6c6"
      },
      "execution_count": null,
      "outputs": [
        {
          "output_type": "execute_result",
          "data": {
            "text/plain": [
              "'homework-1.py'"
            ],
            "application/vnd.google.colaboratory.intrinsic+json": {
              "type": "string"
            }
          },
          "metadata": {},
          "execution_count": 120
        }
      ]
    },
    {
      "cell_type": "markdown",
      "source": [
        "#27"
      ],
      "metadata": {
        "id": "RKo9g7DHhx4V"
      }
    },
    {
      "cell_type": "code",
      "source": [
        "my_list = [1, 2, 3, 4, 5]\n",
        "my_list.pop(0)\n",
        "print(my_list)\n",
        "\n",
        "# or\n",
        "my_list = [1, 2, 3, 4, 5]\n",
        "print(my_list[1:])"
      ],
      "metadata": {
        "colab": {
          "base_uri": "https://localhost:8080/"
        },
        "id": "DLM0e9tI1NdE",
        "outputId": "b351b18e-90a3-40a9-aafe-a07639eee9cf"
      },
      "execution_count": null,
      "outputs": [
        {
          "output_type": "stream",
          "name": "stdout",
          "text": [
            "[2, 3, 4, 5]\n",
            "[2, 3, 4, 5]\n"
          ]
        }
      ]
    },
    {
      "cell_type": "markdown",
      "source": [
        "#28"
      ],
      "metadata": {
        "id": "QtLzrdmNhyCl"
      }
    },
    {
      "cell_type": "code",
      "source": [
        "try:\n",
        "    num = float(input(\"Enter a number: \"))\n",
        "    print(\"The input number is:\", num)\n",
        "except ValueError:\n",
        "    print(\"Error: Input is not a number.\")"
      ],
      "metadata": {
        "colab": {
          "base_uri": "https://localhost:8080/"
        },
        "id": "b9FEV2bA1wwr",
        "outputId": "fec8bb8a-88f4-4d8f-fa1c-7c1602200d94"
      },
      "execution_count": null,
      "outputs": [
        {
          "output_type": "stream",
          "name": "stdout",
          "text": [
            "Enter a number: ehfbf\n",
            "Error: Input is not a number.\n"
          ]
        }
      ]
    },
    {
      "cell_type": "markdown",
      "source": [
        "#29"
      ],
      "metadata": {
        "id": "YoPYQ1PwhyNy"
      }
    },
    {
      "cell_type": "code",
      "source": [
        "round(1/3, 2)"
      ],
      "metadata": {
        "colab": {
          "base_uri": "https://localhost:8080/"
        },
        "id": "ZvYMAmrv2Cx5",
        "outputId": "7fef77b3-bae2-44a1-fca0-169480ba7400"
      },
      "execution_count": null,
      "outputs": [
        {
          "output_type": "execute_result",
          "data": {
            "text/plain": [
              "0.33"
            ]
          },
          "metadata": {},
          "execution_count": 123
        }
      ]
    },
    {
      "cell_type": "markdown",
      "source": [
        "#30"
      ],
      "metadata": {
        "id": "DGROQEjRhyZH"
      }
    },
    {
      "cell_type": "code",
      "source": [
        "string = \"ThiS iS A StRiNg\"\n",
        "string.upper() != string"
      ],
      "metadata": {
        "colab": {
          "base_uri": "https://localhost:8080/"
        },
        "id": "JMj7-2z62axf",
        "outputId": "d8e39920-371e-42fa-ef2c-3a9057ae0b7d"
      },
      "execution_count": null,
      "outputs": [
        {
          "output_type": "execute_result",
          "data": {
            "text/plain": [
              "True"
            ]
          },
          "metadata": {},
          "execution_count": 124
        }
      ]
    },
    {
      "cell_type": "markdown",
      "source": [
        "#31"
      ],
      "metadata": {
        "id": "NuBEImj5hykS"
      }
    },
    {
      "cell_type": "code",
      "source": [],
      "metadata": {
        "id": "d-4M_0bm3ARj"
      },
      "execution_count": null,
      "outputs": []
    },
    {
      "cell_type": "markdown",
      "source": [
        "#32"
      ],
      "metadata": {
        "id": "OXc3Hsuthyu8"
      }
    },
    {
      "cell_type": "code",
      "source": [
        "home_dir = os.path.expanduser(\"~\")\n",
        "rel_path = os.path.relpath(home_dir)\n",
        "print(rel_path)"
      ],
      "metadata": {
        "colab": {
          "base_uri": "https://localhost:8080/"
        },
        "id": "NF8TI2Xd3o9E",
        "outputId": "46630eb2-f895-44c0-a1fa-d228f15844f0"
      },
      "execution_count": null,
      "outputs": [
        {
          "output_type": "stream",
          "name": "stdout",
          "text": [
            "../root\n"
          ]
        }
      ]
    },
    {
      "cell_type": "markdown",
      "source": [
        "#33"
      ],
      "metadata": {
        "id": "nrZNAZuHhy6M"
      }
    },
    {
      "cell_type": "code",
      "source": [
        "print(int(True))\n",
        "print(int(False))"
      ],
      "metadata": {
        "colab": {
          "base_uri": "https://localhost:8080/"
        },
        "id": "A2jymTTd3-Ve",
        "outputId": "ab45c460-250b-47b3-d983-f44c4c15aa58"
      },
      "execution_count": null,
      "outputs": [
        {
          "output_type": "stream",
          "name": "stdout",
          "text": [
            "1\n",
            "0\n"
          ]
        }
      ]
    },
    {
      "cell_type": "markdown",
      "source": [
        "#34"
      ],
      "metadata": {
        "id": "TyJpXi2OhzFY"
      }
    },
    {
      "cell_type": "code",
      "source": [
        "x = 12\n",
        "bits = 10 \n",
        "\n",
        "binary = bin(x)[2:]  \n",
        "binary = binary.zfill(bits)\n",
        "\n",
        "binary"
      ],
      "metadata": {
        "colab": {
          "base_uri": "https://localhost:8080/",
          "height": 36
        },
        "id": "hcatRprQ4K05",
        "outputId": "8ea41ca7-8841-4047-f4cd-77318abda639"
      },
      "execution_count": null,
      "outputs": [
        {
          "output_type": "execute_result",
          "data": {
            "text/plain": [
              "'0000001100'"
            ],
            "application/vnd.google.colaboratory.intrinsic+json": {
              "type": "string"
            }
          },
          "metadata": {},
          "execution_count": 127
        }
      ]
    },
    {
      "cell_type": "markdown",
      "source": [
        "#35"
      ],
      "metadata": {
        "id": "Mm0Us2KRh0b_"
      }
    },
    {
      "cell_type": "code",
      "source": [
        "def find_max_min(numbers):\n",
        "    if not numbers:\n",
        "        return None, None\n",
        "    max_num = numbers[0]\n",
        "    min_num = numbers[0]\n",
        "    for num in numbers:\n",
        "        if num > max_num:\n",
        "            max_num = num\n",
        "        if num < min_num:\n",
        "            min_num = num\n",
        "    return max_num, min_num\n",
        "\n",
        "numbers = [16, 54, 88, 88, 95, 1, 1, 99, 99]\n",
        "max_num, min_num = find_max_min(numbers)\n",
        "print(\"Maximum number:\", max_num)\n",
        "print(\"Minimum number:\", min_num)"
      ],
      "metadata": {
        "colab": {
          "base_uri": "https://localhost:8080/"
        },
        "id": "hhG6mU6F5Bik",
        "outputId": "8437c789-ef78-439b-8522-04eda4f037ca"
      },
      "execution_count": null,
      "outputs": [
        {
          "output_type": "stream",
          "name": "stdout",
          "text": [
            "Maximum number: 99\n",
            "Minimum number: 1\n"
          ]
        }
      ]
    },
    {
      "cell_type": "markdown",
      "source": [
        "#36"
      ],
      "metadata": {
        "id": "JJkz9jOBh0mR"
      }
    },
    {
      "cell_type": "code",
      "source": [
        "def sum_cubes(n):\n",
        "    result = 0\n",
        "    for i in range(1, n):\n",
        "        result += i ** 3\n",
        "    return result\n",
        "\n",
        "sum_cubes(8)"
      ],
      "metadata": {
        "colab": {
          "base_uri": "https://localhost:8080/"
        },
        "id": "2ZMwrUau5W4q",
        "outputId": "42fc3130-d3a1-47ab-a6fe-e986ad322e1c"
      },
      "execution_count": null,
      "outputs": [
        {
          "output_type": "execute_result",
          "data": {
            "text/plain": [
              "784"
            ]
          },
          "metadata": {},
          "execution_count": 129
        }
      ]
    }
  ]
}