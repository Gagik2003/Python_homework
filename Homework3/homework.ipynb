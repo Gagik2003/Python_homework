{
  "cells": [
    {
      "cell_type": "markdown",
      "metadata": {
        "id": "t9XPMCdihkyv"
      },
      "source": [
        "#1"
      ]
    },
    {
      "cell_type": "code",
      "execution_count": 1,
      "metadata": {
        "colab": {
          "base_uri": "https://localhost:8080/"
        },
        "id": "jWxO_d9ahSp6",
        "outputId": "5d7f1a27-2d3f-4888-d7c5-524b03881ff8"
      },
      "outputs": [
        {
          "output_type": "stream",
          "name": "stdout",
          "text": [
            "Python 3.8.10\n"
          ]
        }
      ],
      "source": [
        "! python --version"
      ]
    },
    {
      "cell_type": "markdown",
      "metadata": {
        "id": "spNigvmdhtcL"
      },
      "source": [
        "#2"
      ]
    },
    {
      "cell_type": "code",
      "execution_count": 2,
      "metadata": {
        "colab": {
          "base_uri": "https://localhost:8080/"
        },
        "id": "TOLHFVQ8iZpt",
        "outputId": "da8266df-b1cf-424b-8df9-b555ab175eca"
      },
      "outputs": [
        {
          "output_type": "stream",
          "name": "stdout",
          "text": [
            "Current date and time:\n",
            "2023-03-01 07:23:00\n"
          ]
        }
      ],
      "source": [
        "import datetime\n",
        "\n",
        "current_time = datetime.datetime.now()\n",
        "\n",
        "print(\"Current date and time:\")\n",
        "print(current_time.strftime(\"%Y-%m-%d %H:%M:%S\"))"
      ]
    },
    {
      "cell_type": "markdown",
      "metadata": {
        "id": "VfY7fuKzhtpT"
      },
      "source": [
        "#3"
      ]
    },
    {
      "cell_type": "code",
      "execution_count": 3,
      "metadata": {
        "colab": {
          "base_uri": "https://localhost:8080/"
        },
        "id": "o5xEKF8qigKi",
        "outputId": "e923a429-f9ba-499a-9652-48f6bb696a10"
      },
      "outputs": [
        {
          "output_type": "stream",
          "name": "stdout",
          "text": [
            "Enter the circle radius: 1.1\n",
            "r = 1.1\n",
            "Area = 3.8013271108436504\n"
          ]
        }
      ],
      "source": [
        "import math\n",
        "\n",
        "r = float(input('Enter the circle radius: '))\n",
        "\n",
        "area = math.pi * r ** 2\n",
        "\n",
        "print(f\"r = {r}\")\n",
        "print(f\"Area = {area}\")"
      ]
    },
    {
      "cell_type": "markdown",
      "metadata": {
        "id": "ivQWvZhnht0f"
      },
      "source": [
        "#4"
      ]
    },
    {
      "cell_type": "code",
      "execution_count": 4,
      "metadata": {
        "colab": {
          "base_uri": "https://localhost:8080/"
        },
        "id": "26SQ4vIUjmsX",
        "outputId": "46cc9cdd-b183-4c5a-973d-9a269a4d2496"
      },
      "outputs": [
        {
          "output_type": "stream",
          "name": "stdout",
          "text": [
            "Enter a filename: Gago.py\n",
            "py\n"
          ]
        }
      ],
      "source": [
        "filename = input(\"Enter a filename: \")\n",
        "\n",
        "name, extension = filename.split('.')\n",
        "\n",
        "print(extension)"
      ]
    },
    {
      "cell_type": "markdown",
      "metadata": {
        "id": "VCCFkyiwhuBp"
      },
      "source": [
        "#5"
      ]
    },
    {
      "cell_type": "code",
      "execution_count": 5,
      "metadata": {
        "colab": {
          "base_uri": "https://localhost:8080/"
        },
        "id": "OP6HtACxkC69",
        "outputId": "b1c52049-863b-4f46-fb5a-39b6597498c3"
      },
      "outputs": [
        {
          "output_type": "stream",
          "name": "stdout",
          "text": [
            "First color: Red\n",
            "Last color: Black\n"
          ]
        }
      ],
      "source": [
        "color_list = [\"Red\", \"Green\", \"White\", \"Black\"]\n",
        "\n",
        "first_color = color_list[0]\n",
        "last_color = color_list[-1]\n",
        "\n",
        "print(\"First color:\", first_color)\n",
        "print(\"Last color:\", last_color)"
      ]
    },
    {
      "cell_type": "markdown",
      "metadata": {
        "id": "CTu_MmywhuOD"
      },
      "source": [
        "#6"
      ]
    },
    {
      "cell_type": "code",
      "execution_count": 6,
      "metadata": {
        "colab": {
          "base_uri": "https://localhost:8080/"
        },
        "id": "Vx2kzRbQmQGK",
        "outputId": "1fc72158-67de-47cf-890e-8aa3488d3a19"
      },
      "outputs": [
        {
          "output_type": "stream",
          "name": "stdout",
          "text": [
            "The examination will start from: 11 / 12 / 2014\n"
          ]
        }
      ],
      "source": [
        "exam_st_date = (11, 12, 2014)\n",
        "\n",
        "print(f\"The examination will start from: {exam_st_date[0]} / {exam_st_date[1]} / {exam_st_date[2]}\")"
      ]
    },
    {
      "cell_type": "markdown",
      "metadata": {
        "id": "HDUpnomwhua6"
      },
      "source": [
        "#7"
      ]
    },
    {
      "cell_type": "code",
      "execution_count": 7,
      "metadata": {
        "id": "r_PMLRcwm2a4",
        "colab": {
          "base_uri": "https://localhost:8080/"
        },
        "outputId": "8b047237-6bd4-4368-c4e6-572cabdc0baf"
      },
      "outputs": [
        {
          "output_type": "stream",
          "name": "stdout",
          "text": [
            "Enter an integer: 5\n",
            "5 + 55 + 555 = 615\n"
          ]
        }
      ],
      "source": [
        "n = int(input(\"Enter an integer: \"))\n",
        "\n",
        "nn = n * 10 + n\n",
        "nnn = nn * 10 + n\n",
        "\n",
        "print(f\"{n} + {nn} + {nnn} = {n + nn + nnn}\")"
      ]
    },
    {
      "cell_type": "markdown",
      "metadata": {
        "id": "kDUDdfyPhuoU"
      },
      "source": [
        "#8"
      ]
    },
    {
      "cell_type": "code",
      "execution_count": 8,
      "metadata": {
        "id": "NNjIo3tCnfLN",
        "colab": {
          "base_uri": "https://localhost:8080/"
        },
        "outputId": "32bc74cd-4fec-40e5-8592-29a29d2d6e47"
      },
      "outputs": [
        {
          "output_type": "stream",
          "name": "stdout",
          "text": [
            "Enter a number: 560\n",
            "560 is even\n"
          ]
        }
      ],
      "source": [
        "num = int(input(\"Enter a number: \"))\n",
        "\n",
        "if num % 2 == 0:\n",
        "    print(f\"{num} is even\")\n",
        "else:\n",
        "    print(f\"{num} is odd\")"
      ]
    },
    {
      "cell_type": "markdown",
      "metadata": {
        "id": "tsn5faQvhuzQ"
      },
      "source": [
        "#9"
      ]
    },
    {
      "cell_type": "code",
      "execution_count": 9,
      "metadata": {
        "id": "iWg7BRCvnxox",
        "colab": {
          "base_uri": "https://localhost:8080/"
        },
        "outputId": "668b2f67-246d-4848-cbfe-4946a8cfe89e"
      },
      "outputs": [
        {
          "output_type": "stream",
          "name": "stdout",
          "text": [
            "Enter a value to search for: 3\n",
            "True\n"
          ]
        }
      ],
      "source": [
        "value = int(input(\"Enter a value to search for: \"))\n",
        "group = [1, 5, 8, 3]\n",
        "\n",
        "print(value in group)"
      ]
    },
    {
      "cell_type": "markdown",
      "metadata": {
        "id": "J9lb_DJkhu_j"
      },
      "source": [
        "#10"
      ]
    },
    {
      "cell_type": "code",
      "execution_count": 10,
      "metadata": {
        "id": "8TvxM8wwoHGp",
        "colab": {
          "base_uri": "https://localhost:8080/"
        },
        "outputId": "c6210734-6f9a-401d-ddd2-dc138055ac02"
      },
      "outputs": [
        {
          "output_type": "stream",
          "name": "stdout",
          "text": [
            "**\n",
            "***\n",
            "******\n",
            "*****\n"
          ]
        }
      ],
      "source": [
        "nums = [2, 3, 6, 5]\n",
        "\n",
        "for i in nums:\n",
        "    print(\"*\" * i)"
      ]
    },
    {
      "cell_type": "markdown",
      "metadata": {
        "id": "qOvOTmxFhvLA"
      },
      "source": [
        "#11"
      ]
    },
    {
      "cell_type": "code",
      "execution_count": 11,
      "metadata": {
        "id": "y2XKxkF0oVyg",
        "colab": {
          "base_uri": "https://localhost:8080/"
        },
        "outputId": "172daa7d-678d-4ccc-84d1-836163799c00"
      },
      "outputs": [
        {
          "output_type": "stream",
          "name": "stdout",
          "text": [
            "{'Black', 'White'}\n"
          ]
        }
      ],
      "source": [
        "color_list_1 = set([\"White\", \"Black\", \"Red\"])\n",
        "color_list_2 = set([\"Red\", \"Green\"])\n",
        "\n",
        "print(color_list_1.difference(color_list_2))"
      ]
    },
    {
      "cell_type": "markdown",
      "metadata": {
        "id": "8GiCyOSphvWQ"
      },
      "source": [
        "#12"
      ]
    },
    {
      "cell_type": "code",
      "execution_count": 12,
      "metadata": {
        "id": "-9YLYme1pnCj",
        "colab": {
          "base_uri": "https://localhost:8080/",
          "height": 36
        },
        "outputId": "e3153e56-0c4c-4bd2-a09f-2cc7e663a76b"
      },
      "outputs": [
        {
          "output_type": "execute_result",
          "data": {
            "text/plain": [
              "'567'"
            ],
            "application/vnd.google.colaboratory.intrinsic+json": {
              "type": "string"
            }
          },
          "metadata": {},
          "execution_count": 12
        }
      ],
      "source": [
        "def concatenate_list(list):\n",
        "    string = ''\n",
        "    for i in list:\n",
        "      string += str(i)\n",
        "    return string\n",
        "\n",
        "concatenate_list([5, 6, 7])"
      ]
    },
    {
      "cell_type": "markdown",
      "metadata": {
        "id": "yrUK0RfEhvhP"
      },
      "source": [
        "#13"
      ]
    },
    {
      "cell_type": "code",
      "execution_count": 13,
      "metadata": {
        "id": "kDtU6_UNq0Uv",
        "colab": {
          "base_uri": "https://localhost:8080/"
        },
        "outputId": "f0bcd38b-b07a-4cae-f3a9-b5e8f4a1fd63"
      },
      "outputs": [
        {
          "output_type": "execute_result",
          "data": {
            "text/plain": [
              "99"
            ]
          },
          "metadata": {},
          "execution_count": 13
        }
      ],
      "source": [
        "def gcd(a, b):\n",
        "    while b != 0:\n",
        "        c = b\n",
        "        b = a % b\n",
        "        a = c\n",
        "    return a\n",
        "\n",
        "gcd(198, 99)"
      ]
    },
    {
      "cell_type": "markdown",
      "metadata": {
        "id": "vz23tzlVhvtp"
      },
      "source": [
        "#14"
      ]
    },
    {
      "cell_type": "code",
      "execution_count": 14,
      "metadata": {
        "id": "zLMtq5DbspIl",
        "colab": {
          "base_uri": "https://localhost:8080/"
        },
        "outputId": "7440b47d-9340-4865-fce2-71bd5e12ec70"
      },
      "outputs": [
        {
          "output_type": "execute_result",
          "data": {
            "text/plain": [
              "2700"
            ]
          },
          "metadata": {},
          "execution_count": 14
        }
      ],
      "source": [
        "def lcm(a, b):\n",
        "    gcd_value = gcd(a, b)\n",
        "    return (a * b) // gcd_value\n",
        "\n",
        "lcm(54, 100)"
      ]
    },
    {
      "cell_type": "markdown",
      "metadata": {
        "id": "VdBWyvv6hv35"
      },
      "source": [
        "#15"
      ]
    },
    {
      "cell_type": "code",
      "execution_count": 15,
      "metadata": {
        "id": "UgHZuvBUtHGu",
        "colab": {
          "base_uri": "https://localhost:8080/"
        },
        "outputId": "f5bc6f82-d8bd-4e80-9107-8e27c66830b1"
      },
      "outputs": [
        {
          "output_type": "execute_result",
          "data": {
            "text/plain": [
              "1.4142135623730951"
            ]
          },
          "metadata": {},
          "execution_count": 15
        }
      ],
      "source": [
        "def distance(x1, y1, x2, y2):\n",
        "    return math.sqrt((x2 - x1) ** 2 + (y2 - y1) ** 2)\n",
        "\n",
        "distance(0, 0, 1, 1)"
      ]
    },
    {
      "cell_type": "markdown",
      "metadata": {
        "id": "Qe6rOdY2hwCu"
      },
      "source": [
        "#16"
      ]
    },
    {
      "cell_type": "code",
      "execution_count": 16,
      "metadata": {
        "id": "YqXC2A-TtUIn",
        "colab": {
          "base_uri": "https://localhost:8080/"
        },
        "outputId": "146579e5-a6da-414c-f2fa-a856bca6e327"
      },
      "outputs": [
        {
          "output_type": "execute_result",
          "data": {
            "text/plain": [
              "False"
            ]
          },
          "metadata": {},
          "execution_count": 16
        }
      ],
      "source": [
        "import os\n",
        "\n",
        "os.path.isfile('Gago.py')"
      ]
    },
    {
      "cell_type": "markdown",
      "metadata": {
        "id": "1hUFARfuhwN4"
      },
      "source": [
        "#17"
      ]
    },
    {
      "cell_type": "code",
      "execution_count": 17,
      "metadata": {
        "id": "LZBPB0v8tlLh",
        "colab": {
          "base_uri": "https://localhost:8080/"
        },
        "outputId": "1e798cf3-7c02-4dbc-f661-388aa5043d4e"
      },
      "outputs": [
        {
          "output_type": "execute_result",
          "data": {
            "text/plain": [
              "64"
            ]
          },
          "metadata": {},
          "execution_count": 17
        }
      ],
      "source": [
        "import struct\n",
        "\n",
        "struct.calcsize(\"P\") * 8"
      ]
    },
    {
      "cell_type": "markdown",
      "metadata": {
        "id": "28s6mhnAhwZT"
      },
      "source": [
        "#18"
      ]
    },
    {
      "cell_type": "code",
      "execution_count": 18,
      "metadata": {
        "id": "XYcW6Poyt_29",
        "colab": {
          "base_uri": "https://localhost:8080/"
        },
        "outputId": "4c5267d0-d2c4-46ae-f6e2-73b2bf870324"
      },
      "outputs": [
        {
          "output_type": "stream",
          "name": "stdout",
          "text": [
            "Operating system name: posix\n",
            "Platform name: Linux\n",
            "Release information: 5.10.147+\n"
          ]
        }
      ],
      "source": [
        "import os\n",
        "import platform\n",
        "\n",
        "print(\"Operating system name:\", os.name)\n",
        "print(\"Platform name:\", platform.system())\n",
        "print(\"Release information:\", platform.release())"
      ]
    },
    {
      "cell_type": "markdown",
      "metadata": {
        "id": "ctgKLLsHhwjo"
      },
      "source": [
        "#19"
      ]
    },
    {
      "cell_type": "code",
      "execution_count": 19,
      "metadata": {
        "id": "ZPklT0xzua7X",
        "colab": {
          "base_uri": "https://localhost:8080/"
        },
        "outputId": "7b91232b-0b8c-4a01-9292-8094eac4fff2"
      },
      "outputs": [
        {
          "output_type": "stream",
          "name": "stdout",
          "text": [
            "sample_data\n",
            "\n"
          ]
        }
      ],
      "source": [
        "import subprocess\n",
        "\n",
        "result = subprocess.run([\"ls\"], stdout=subprocess.PIPE)\n",
        "print(result.stdout.decode())"
      ]
    },
    {
      "cell_type": "markdown",
      "metadata": {
        "id": "Q4t4RJL3hwuH"
      },
      "source": [
        "#20"
      ]
    },
    {
      "cell_type": "code",
      "execution_count": 20,
      "metadata": {
        "id": "HqhHvGs0vSeu",
        "colab": {
          "base_uri": "https://localhost:8080/"
        },
        "outputId": "b3bf396e-c35b-4143-f7e5-6945fe6a1a27"
      },
      "outputs": [
        {
          "output_type": "stream",
          "name": "stdout",
          "text": [
            "Number of CPUs used: 2\n"
          ]
        }
      ],
      "source": [
        "import multiprocessing\n",
        "\n",
        "print(\"Number of CPUs used:\", multiprocessing.cpu_count())"
      ]
    },
    {
      "cell_type": "markdown",
      "metadata": {
        "id": "CwG1A8xIhw5B"
      },
      "source": [
        "#21"
      ]
    },
    {
      "cell_type": "code",
      "execution_count": 21,
      "metadata": {
        "id": "lMsuOEJ0von9",
        "colab": {
          "base_uri": "https://localhost:8080/"
        },
        "outputId": "1e44df81-9ef6-462a-cfac-40a1832731b5"
      },
      "outputs": [
        {
          "output_type": "execute_result",
          "data": {
            "text/plain": [
              "['anscombe.json',\n",
              " 'README.md',\n",
              " 'mnist_test.csv',\n",
              " 'california_housing_train.csv',\n",
              " 'mnist_train_small.csv',\n",
              " 'california_housing_test.csv']"
            ]
          },
          "metadata": {},
          "execution_count": 21
        }
      ],
      "source": [
        "os.listdir('/content/sample_data')"
      ]
    },
    {
      "cell_type": "markdown",
      "metadata": {
        "id": "7KoybRYVhxC-"
      },
      "source": [
        "#22"
      ]
    },
    {
      "cell_type": "code",
      "execution_count": 22,
      "metadata": {
        "id": "4Agai5a4wklH",
        "colab": {
          "base_uri": "https://localhost:8080/"
        },
        "outputId": "a6a57593-2501-49bd-a6d1-7f52ecd831c6"
      },
      "outputs": [
        {
          "output_type": "execute_result",
          "data": {
            "text/plain": [
              "(-1, 1, 99)"
            ]
          },
          "metadata": {},
          "execution_count": 22
        }
      ],
      "source": [
        "def sort_three_integers(a, b, c):\n",
        "    min_value = min(a, b, c)\n",
        "    max_value = max(a, b, c)\n",
        "    middle_value = a + b + c - min_value - max_value\n",
        "    return min_value, middle_value, max_value\n",
        "\n",
        "sort_three_integers(1, -1, 99)"
      ]
    },
    {
      "cell_type": "markdown",
      "metadata": {
        "id": "wsKkWMWchxNs"
      },
      "source": [
        "#23"
      ]
    },
    {
      "cell_type": "code",
      "execution_count": 23,
      "metadata": {
        "id": "fF5fmCB2yCM8",
        "colab": {
          "base_uri": "https://localhost:8080/"
        },
        "outputId": "d732940f-f968-4408-803b-38398aa4d92b"
      },
      "outputs": [
        {
          "output_type": "stream",
          "name": "stdout",
          "text": [
            "['anscombe.json', 'README.md', 'california_housing_test.csv', 'california_housing_train.csv', 'mnist_test.csv', 'mnist_train_small.csv']\n"
          ]
        }
      ],
      "source": [
        "import os\n",
        "\n",
        "file_list = os.listdir('/content/sample_data')\n",
        "creation_times = [(file, os.path.getctime(os.path.join('/content/sample_data', file))) for file in file_list]\n",
        "sorted_files = sorted(creation_times, key=lambda x: x[1])\n",
        "\n",
        "l = []\n",
        "for file, _ in sorted_files:\n",
        "    l.append(file)\n",
        "print(l)"
      ]
    },
    {
      "cell_type": "markdown",
      "metadata": {
        "id": "GQywieyYhxXi"
      },
      "source": [
        "#24"
      ]
    },
    {
      "cell_type": "code",
      "execution_count": 24,
      "metadata": {
        "id": "aUl4zWkkzbtK",
        "colab": {
          "base_uri": "https://localhost:8080/"
        },
        "outputId": "c0f2a681-f903-44a1-8393-7dd9e5e0691b"
      },
      "outputs": [
        {
          "output_type": "stream",
          "name": "stdout",
          "text": [
            "True\n",
            "False\n"
          ]
        }
      ],
      "source": [
        "def all_greater_than(numbers, n):\n",
        "    for num in numbers:\n",
        "        if num <= n:\n",
        "            return False\n",
        "    return True\n",
        "\n",
        "print(all_greater_than([10, 20, 30, 40, 50], 5))\n",
        "print(all_greater_than([10, 20, 30, 40, 50], 25))"
      ]
    },
    {
      "cell_type": "markdown",
      "metadata": {
        "id": "ArGh_yHzhxiP"
      },
      "source": [
        "#25"
      ]
    },
    {
      "cell_type": "code",
      "execution_count": 25,
      "metadata": {
        "id": "sE7TUoXLz6Dk",
        "colab": {
          "base_uri": "https://localhost:8080/"
        },
        "outputId": "38a330be-743d-4ad1-9ef6-4a359f760e13"
      },
      "outputs": [
        {
          "output_type": "execute_result",
          "data": {
            "text/plain": [
              "3"
            ]
          },
          "metadata": {},
          "execution_count": 25
        }
      ],
      "source": [
        "# def count_occurrences(string, char):\n",
        "#     return string.count(char)\n",
        "\n",
        "# count_occurrences('Hello World!!!', 'l') \n",
        "\n",
        "'Hello World!!!'.count('l')"
      ]
    },
    {
      "cell_type": "markdown",
      "metadata": {
        "id": "n35NOCnAhxsI"
      },
      "source": [
        "#26"
      ]
    },
    {
      "cell_type": "code",
      "execution_count": 26,
      "metadata": {
        "id": "BH_V1g9605dB",
        "colab": {
          "base_uri": "https://localhost:8080/",
          "height": 36
        },
        "outputId": "1d0be142-318a-438a-df35-f28c6923df74"
      },
      "outputs": [
        {
          "output_type": "execute_result",
          "data": {
            "text/plain": [
              "'homework-1.py'"
            ],
            "application/vnd.google.colaboratory.intrinsic+json": {
              "type": "string"
            }
          },
          "metadata": {},
          "execution_count": 26
        }
      ],
      "source": [
        "os.path.basename('/users/system1/student1/homework-1.py')"
      ]
    },
    {
      "cell_type": "markdown",
      "metadata": {
        "id": "RKo9g7DHhx4V"
      },
      "source": [
        "#27"
      ]
    },
    {
      "cell_type": "code",
      "execution_count": 27,
      "metadata": {
        "id": "DLM0e9tI1NdE",
        "colab": {
          "base_uri": "https://localhost:8080/"
        },
        "outputId": "6c28fe7d-9c26-43a2-b83e-f54f432db979"
      },
      "outputs": [
        {
          "output_type": "stream",
          "name": "stdout",
          "text": [
            "[2, 3, 4, 5]\n",
            "[2, 3, 4, 5]\n"
          ]
        }
      ],
      "source": [
        "my_list = [1, 2, 3, 4, 5]\n",
        "my_list.pop(0)\n",
        "print(my_list)\n",
        "\n",
        "# or\n",
        "my_list = [1, 2, 3, 4, 5]\n",
        "print(my_list[1:])"
      ]
    },
    {
      "cell_type": "markdown",
      "metadata": {
        "id": "QtLzrdmNhyCl"
      },
      "source": [
        "#28"
      ]
    },
    {
      "cell_type": "code",
      "execution_count": 28,
      "metadata": {
        "id": "b9FEV2bA1wwr",
        "colab": {
          "base_uri": "https://localhost:8080/"
        },
        "outputId": "d668e4e1-b8d1-485e-edba-f249fad66acb"
      },
      "outputs": [
        {
          "output_type": "stream",
          "name": "stdout",
          "text": [
            "Enter a number: ffdfd\n",
            "Error: Input is not a number.\n"
          ]
        }
      ],
      "source": [
        "try:\n",
        "    num = float(input(\"Enter a number: \"))\n",
        "    print(\"The input number is:\", num)\n",
        "except ValueError:\n",
        "    print(\"Error: Input is not a number.\")"
      ]
    },
    {
      "cell_type": "markdown",
      "metadata": {
        "id": "YoPYQ1PwhyNy"
      },
      "source": [
        "#29"
      ]
    },
    {
      "cell_type": "code",
      "execution_count": 29,
      "metadata": {
        "id": "ZvYMAmrv2Cx5",
        "colab": {
          "base_uri": "https://localhost:8080/"
        },
        "outputId": "d5352160-9e6b-4ff7-8d0b-e8e388a69aa8"
      },
      "outputs": [
        {
          "output_type": "execute_result",
          "data": {
            "text/plain": [
              "0.33"
            ]
          },
          "metadata": {},
          "execution_count": 29
        }
      ],
      "source": [
        "round(1/3, 2)"
      ]
    },
    {
      "cell_type": "markdown",
      "metadata": {
        "id": "DGROQEjRhyZH"
      },
      "source": [
        "#30"
      ]
    },
    {
      "cell_type": "code",
      "execution_count": 30,
      "metadata": {
        "id": "JMj7-2z62axf",
        "colab": {
          "base_uri": "https://localhost:8080/"
        },
        "outputId": "35c2a0e2-8e12-49c0-8b28-a5dedfdec8ae"
      },
      "outputs": [
        {
          "output_type": "execute_result",
          "data": {
            "text/plain": [
              "True"
            ]
          },
          "metadata": {},
          "execution_count": 30
        }
      ],
      "source": [
        "string = \"ThiS iS A StRiNg\"\n",
        "string.upper() != string"
      ]
    },
    {
      "cell_type": "markdown",
      "metadata": {
        "id": "NuBEImj5hykS"
      },
      "source": [
        "#31"
      ]
    },
    {
      "cell_type": "code",
      "execution_count": 31,
      "metadata": {
        "id": "d-4M_0bm3ARj",
        "colab": {
          "base_uri": "https://localhost:8080/"
        },
        "outputId": "669af7d1-89d1-448e-ed19-e6911db0ce71"
      },
      "outputs": [
        {
          "output_type": "execute_result",
          "data": {
            "text/plain": [
              "['v', 'a', 'r', 'i', 'a', 'b', 'l', 'e']"
            ]
          },
          "metadata": {},
          "execution_count": 31
        }
      ],
      "source": [
        "s = 'variable'\n",
        "l = []\n",
        "for i in s:\n",
        "  l.append(i)\n",
        "l"
      ]
    },
    {
      "cell_type": "markdown",
      "metadata": {
        "id": "OXc3Hsuthyu8"
      },
      "source": [
        "#32"
      ]
    },
    {
      "cell_type": "code",
      "execution_count": 32,
      "metadata": {
        "id": "NF8TI2Xd3o9E",
        "colab": {
          "base_uri": "https://localhost:8080/"
        },
        "outputId": "1f213c07-3f9c-4e16-b28e-5bc41a7bb45b"
      },
      "outputs": [
        {
          "output_type": "stream",
          "name": "stdout",
          "text": [
            "../root\n"
          ]
        }
      ],
      "source": [
        "home_dir = os.path.expanduser(\"~\")\n",
        "rel_path = os.path.relpath(home_dir)\n",
        "print(rel_path)"
      ]
    },
    {
      "cell_type": "markdown",
      "metadata": {
        "id": "nrZNAZuHhy6M"
      },
      "source": [
        "#33"
      ]
    },
    {
      "cell_type": "code",
      "execution_count": 33,
      "metadata": {
        "id": "A2jymTTd3-Ve",
        "colab": {
          "base_uri": "https://localhost:8080/"
        },
        "outputId": "2d9fcd50-631c-41fe-8047-8d43490c78c3"
      },
      "outputs": [
        {
          "output_type": "stream",
          "name": "stdout",
          "text": [
            "1\n",
            "0\n"
          ]
        }
      ],
      "source": [
        "print(int(True))\n",
        "print(int(False))"
      ]
    },
    {
      "cell_type": "markdown",
      "metadata": {
        "id": "TyJpXi2OhzFY"
      },
      "source": [
        "#34"
      ]
    },
    {
      "cell_type": "code",
      "execution_count": 34,
      "metadata": {
        "id": "hcatRprQ4K05",
        "colab": {
          "base_uri": "https://localhost:8080/",
          "height": 36
        },
        "outputId": "3f8138aa-a610-4951-bd0d-1e513f13c0d2"
      },
      "outputs": [
        {
          "output_type": "execute_result",
          "data": {
            "text/plain": [
              "'0000001100'"
            ],
            "application/vnd.google.colaboratory.intrinsic+json": {
              "type": "string"
            }
          },
          "metadata": {},
          "execution_count": 34
        }
      ],
      "source": [
        "x = 12\n",
        "bits = 10 \n",
        "\n",
        "binary = bin(x)[2:]  \n",
        "binary = binary.zfill(bits)\n",
        "\n",
        "binary"
      ]
    },
    {
      "cell_type": "markdown",
      "metadata": {
        "id": "Mm0Us2KRh0b_"
      },
      "source": [
        "#35"
      ]
    },
    {
      "cell_type": "code",
      "execution_count": 35,
      "metadata": {
        "id": "hhG6mU6F5Bik",
        "colab": {
          "base_uri": "https://localhost:8080/"
        },
        "outputId": "8b04ba9f-9d5d-4bda-b017-15f2660b33e2"
      },
      "outputs": [
        {
          "output_type": "stream",
          "name": "stdout",
          "text": [
            "Maximum number: 99\n",
            "Minimum number: 1\n"
          ]
        }
      ],
      "source": [
        "def find_max_min(numbers):\n",
        "    if not numbers:\n",
        "        return None, None\n",
        "    max_num = numbers[0]\n",
        "    min_num = numbers[0]\n",
        "    for num in numbers:\n",
        "        if num > max_num:\n",
        "            max_num = num\n",
        "        if num < min_num:\n",
        "            min_num = num\n",
        "    return max_num, min_num\n",
        "\n",
        "numbers = [16, 54, 88, 88, 95, 1, 1, 99, 99]\n",
        "max_num, min_num = find_max_min(numbers)\n",
        "print(\"Maximum number:\", max_num)\n",
        "print(\"Minimum number:\", min_num)"
      ]
    },
    {
      "cell_type": "markdown",
      "metadata": {
        "id": "JJkz9jOBh0mR"
      },
      "source": [
        "#36"
      ]
    },
    {
      "cell_type": "code",
      "execution_count": 36,
      "metadata": {
        "id": "2ZMwrUau5W4q",
        "colab": {
          "base_uri": "https://localhost:8080/"
        },
        "outputId": "157fa6a4-d0a8-4623-9d29-6f79e6d92728"
      },
      "outputs": [
        {
          "output_type": "execute_result",
          "data": {
            "text/plain": [
              "784"
            ]
          },
          "metadata": {},
          "execution_count": 36
        }
      ],
      "source": [
        "def sum_cubes(n):\n",
        "    result = 0\n",
        "    for i in range(1, n):\n",
        "        result += i ** 3\n",
        "    return result\n",
        "\n",
        "sum_cubes(8)"
      ]
    }
  ],
  "metadata": {
    "colab": {
      "provenance": []
    },
    "kernelspec": {
      "display_name": "Python 3",
      "name": "python3"
    },
    "language_info": {
      "name": "python"
    }
  },
  "nbformat": 4,
  "nbformat_minor": 0
}