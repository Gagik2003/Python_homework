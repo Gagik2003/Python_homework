{
  "nbformat": 4,
  "nbformat_minor": 0,
  "metadata": {
    "colab": {
      "provenance": []
    },
    "kernelspec": {
      "name": "python3",
      "display_name": "Python 3"
    },
    "language_info": {
      "name": "python"
    }
  },
  "cells": [
    {
      "cell_type": "markdown",
      "source": [
        "#1"
      ],
      "metadata": {
        "id": "5xcXD4GLQLPW"
      }
    },
    {
      "cell_type": "code",
      "execution_count": 156,
      "metadata": {
        "id": "TCO09xp4PuGT"
      },
      "outputs": [],
      "source": [
        "def triangle(num, sym='#'):\n",
        "  l = []\n",
        "  for i in range(num):\n",
        "    l1 = []\n",
        "    for j in range(i+1):\n",
        "      l1.append(sym)\n",
        "    l.append(l1)\n",
        "  return l"
      ]
    },
    {
      "cell_type": "code",
      "source": [
        "triangle(3, '*')"
      ],
      "metadata": {
        "colab": {
          "base_uri": "https://localhost:8080/"
        },
        "id": "G3RTaqmTREgM",
        "outputId": "1722bf12-beae-4a5a-a4ac-5738c4444d2f"
      },
      "execution_count": 157,
      "outputs": [
        {
          "output_type": "execute_result",
          "data": {
            "text/plain": [
              "[['*'], ['*', '*'], ['*', '*', '*']]"
            ]
          },
          "metadata": {},
          "execution_count": 157
        }
      ]
    },
    {
      "cell_type": "code",
      "source": [
        "triangle(3)"
      ],
      "metadata": {
        "colab": {
          "base_uri": "https://localhost:8080/"
        },
        "id": "lkGl6B3jRHki",
        "outputId": "951660dd-dc12-490c-9974-bab955831a2d"
      },
      "execution_count": 158,
      "outputs": [
        {
          "output_type": "execute_result",
          "data": {
            "text/plain": [
              "[['#'], ['#', '#'], ['#', '#', '#']]"
            ]
          },
          "metadata": {},
          "execution_count": 158
        }
      ]
    },
    {
      "cell_type": "markdown",
      "source": [
        "#2"
      ],
      "metadata": {
        "id": "r11LcVowRNMR"
      }
    },
    {
      "cell_type": "code",
      "source": [
        "def gcd(a, b):\n",
        "    while b:\n",
        "      a, b = b, a % b\n",
        "    return a"
      ],
      "metadata": {
        "id": "AF9srReSXXzQ"
      },
      "execution_count": 159,
      "outputs": []
    },
    {
      "cell_type": "code",
      "source": [
        "gcd(2, 10)"
      ],
      "metadata": {
        "colab": {
          "base_uri": "https://localhost:8080/"
        },
        "id": "0Olk4qRIYIFo",
        "outputId": "d2b25b3d-84e6-4195-d9dc-ea5500d9ff6e"
      },
      "execution_count": 160,
      "outputs": [
        {
          "output_type": "execute_result",
          "data": {
            "text/plain": [
              "2"
            ]
          },
          "metadata": {},
          "execution_count": 160
        }
      ]
    },
    {
      "cell_type": "code",
      "source": [
        "def find_gcd(*numbers):\n",
        "  result = numbers[0]\n",
        "  for i in range(1, len(numbers)):\n",
        "    result = gcd(result, numbers[i])\n",
        "  return result"
      ],
      "metadata": {
        "id": "jkpTre4HYF7K"
      },
      "execution_count": 161,
      "outputs": []
    },
    {
      "cell_type": "code",
      "source": [
        "find_gcd(2, 4, 8, 10)"
      ],
      "metadata": {
        "colab": {
          "base_uri": "https://localhost:8080/"
        },
        "id": "k-SA4sPqXkzg",
        "outputId": "658a4f1b-7ee4-4709-c413-d5d1d1a60bbc"
      },
      "execution_count": 162,
      "outputs": [
        {
          "output_type": "execute_result",
          "data": {
            "text/plain": [
              "2"
            ]
          },
          "metadata": {},
          "execution_count": 162
        }
      ]
    },
    {
      "cell_type": "code",
      "source": [
        "find_gcd(625, 125, 25, 75, 15)"
      ],
      "metadata": {
        "colab": {
          "base_uri": "https://localhost:8080/"
        },
        "id": "Z4Q0ieDsXk30",
        "outputId": "015366f7-c4ab-4326-d36a-b57e8649ff0a"
      },
      "execution_count": 163,
      "outputs": [
        {
          "output_type": "execute_result",
          "data": {
            "text/plain": [
              "5"
            ]
          },
          "metadata": {},
          "execution_count": 163
        }
      ]
    },
    {
      "cell_type": "markdown",
      "source": [
        "#3"
      ],
      "metadata": {
        "id": "GlJqGGotRnm9"
      }
    },
    {
      "cell_type": "code",
      "source": [
        "def fib(n, k=None):\n",
        "  if k is None:\n",
        "    k=[0]\n",
        "  k[0] += 1\n",
        "  if n==1 or n==2:\n",
        "    return 1, k\n",
        "  return fib(n-1, k)[0]+fib(n-2, k)[0], k"
      ],
      "metadata": {
        "id": "hEvBLc79cAaE"
      },
      "execution_count": 164,
      "outputs": []
    },
    {
      "cell_type": "code",
      "source": [
        "f, t = fib(6)\n",
        "print(f)\n",
        "print(t[0], 'times called fib')"
      ],
      "metadata": {
        "colab": {
          "base_uri": "https://localhost:8080/"
        },
        "id": "7477SjHOcVCb",
        "outputId": "5ba1f1ad-d56d-4cfc-c375-cc5fea9bce81"
      },
      "execution_count": 165,
      "outputs": [
        {
          "output_type": "stream",
          "name": "stdout",
          "text": [
            "8\n",
            "15 times called fib\n"
          ]
        }
      ]
    },
    {
      "cell_type": "code",
      "source": [
        "for i in range(1, 15):\n",
        "  f, t = fib(i)\n",
        "  print(f'The {i}th number of fibonachi is {f}: {t[0]} times called fib function')"
      ],
      "metadata": {
        "colab": {
          "base_uri": "https://localhost:8080/"
        },
        "id": "SSJt4YjJTd0_",
        "outputId": "9802b485-6c85-481b-be75-353c40daac54"
      },
      "execution_count": 166,
      "outputs": [
        {
          "output_type": "stream",
          "name": "stdout",
          "text": [
            "The 1th number of fibonachi is 1: 1 times called fib function\n",
            "The 2th number of fibonachi is 1: 1 times called fib function\n",
            "The 3th number of fibonachi is 2: 3 times called fib function\n",
            "The 4th number of fibonachi is 3: 5 times called fib function\n",
            "The 5th number of fibonachi is 5: 9 times called fib function\n",
            "The 6th number of fibonachi is 8: 15 times called fib function\n",
            "The 7th number of fibonachi is 13: 25 times called fib function\n",
            "The 8th number of fibonachi is 21: 41 times called fib function\n",
            "The 9th number of fibonachi is 34: 67 times called fib function\n",
            "The 10th number of fibonachi is 55: 109 times called fib function\n",
            "The 11th number of fibonachi is 89: 177 times called fib function\n",
            "The 12th number of fibonachi is 144: 287 times called fib function\n",
            "The 13th number of fibonachi is 233: 465 times called fib function\n",
            "The 14th number of fibonachi is 377: 753 times called fib function\n"
          ]
        }
      ]
    },
    {
      "cell_type": "markdown",
      "source": [
        "#4"
      ],
      "metadata": {
        "id": "zRQbXS_0R3Ih"
      }
    },
    {
      "cell_type": "code",
      "source": [
        "def prime_factors(n):\n",
        "  l = []\n",
        "  for i in range(2, n):\n",
        "    if n%i==0:\n",
        "      l.append(i)\n",
        "      while n%i==0:\n",
        "        n/=i\n",
        "    if n==1:\n",
        "      break\n",
        "  else:\n",
        "    l.append(n)\n",
        "  return l"
      ],
      "metadata": {
        "id": "WNxmhGa5RpJr"
      },
      "execution_count": 167,
      "outputs": []
    },
    {
      "cell_type": "code",
      "source": [
        "prime_factors(18)"
      ],
      "metadata": {
        "colab": {
          "base_uri": "https://localhost:8080/"
        },
        "id": "8Z7UqtQnRpMh",
        "outputId": "855a764a-68dc-4e54-9285-0e5f2254dd48"
      },
      "execution_count": 168,
      "outputs": [
        {
          "output_type": "execute_result",
          "data": {
            "text/plain": [
              "[2, 3]"
            ]
          },
          "metadata": {},
          "execution_count": 168
        }
      ]
    },
    {
      "cell_type": "code",
      "source": [
        "prime_factors(5)"
      ],
      "metadata": {
        "colab": {
          "base_uri": "https://localhost:8080/"
        },
        "id": "AT8BX-LBRpPZ",
        "outputId": "64c69b80-1b0f-4b68-b964-ed71c12dbbc3"
      },
      "execution_count": 169,
      "outputs": [
        {
          "output_type": "execute_result",
          "data": {
            "text/plain": [
              "[5]"
            ]
          },
          "metadata": {},
          "execution_count": 169
        }
      ]
    },
    {
      "cell_type": "code",
      "source": [
        "prime_factors(100)"
      ],
      "metadata": {
        "colab": {
          "base_uri": "https://localhost:8080/"
        },
        "id": "QaOCT3Y1RpSI",
        "outputId": "754c53d9-03fb-47ef-a450-d152a71beb9d"
      },
      "execution_count": 170,
      "outputs": [
        {
          "output_type": "execute_result",
          "data": {
            "text/plain": [
              "[2, 5]"
            ]
          },
          "metadata": {},
          "execution_count": 170
        }
      ]
    },
    {
      "cell_type": "code",
      "source": [
        "prime_factors(105)"
      ],
      "metadata": {
        "colab": {
          "base_uri": "https://localhost:8080/"
        },
        "id": "81SNdqwokLQF",
        "outputId": "0ab333d0-f641-494f-d324-9cf0461713c3"
      },
      "execution_count": 171,
      "outputs": [
        {
          "output_type": "execute_result",
          "data": {
            "text/plain": [
              "[3, 5, 7]"
            ]
          },
          "metadata": {},
          "execution_count": 171
        }
      ]
    },
    {
      "cell_type": "markdown",
      "source": [
        "#5"
      ],
      "metadata": {
        "id": "H2mPbJQoSwfN"
      }
    },
    {
      "cell_type": "code",
      "source": [
        "def jumping_frog(P, h):\n",
        "  for i in range(1, len(P)):\n",
        "    if P[i-1]-P[i] > h or P[i-1]-P[i] < -h:\n",
        "      return 'Game over'\n",
        "  return 'Frog wins'\n"
      ],
      "metadata": {
        "id": "1hLQBZuVSysr"
      },
      "execution_count": 172,
      "outputs": []
    },
    {
      "cell_type": "code",
      "source": [
        "jumping_frog([1, 3], 2)"
      ],
      "metadata": {
        "colab": {
          "base_uri": "https://localhost:8080/",
          "height": 36
        },
        "id": "bl-c5qpwSyxI",
        "outputId": "8ef01815-1f28-4aa9-cb7c-52e57ade6961"
      },
      "execution_count": 173,
      "outputs": [
        {
          "output_type": "execute_result",
          "data": {
            "text/plain": [
              "'Frog wins'"
            ],
            "application/vnd.google.colaboratory.intrinsic+json": {
              "type": "string"
            }
          },
          "metadata": {},
          "execution_count": 173
        }
      ]
    },
    {
      "cell_type": "code",
      "source": [
        "jumping_frog([4, 5, 2], 2)"
      ],
      "metadata": {
        "colab": {
          "base_uri": "https://localhost:8080/",
          "height": 36
        },
        "id": "9Xvz_bVRSyy6",
        "outputId": "12ecd172-1bb5-43ab-a9b7-beade2cb469f"
      },
      "execution_count": 174,
      "outputs": [
        {
          "output_type": "execute_result",
          "data": {
            "text/plain": [
              "'Game over'"
            ],
            "application/vnd.google.colaboratory.intrinsic+json": {
              "type": "string"
            }
          },
          "metadata": {},
          "execution_count": 174
        }
      ]
    },
    {
      "cell_type": "code",
      "source": [
        "jumping_frog([4, 2, 5], 2)"
      ],
      "metadata": {
        "colab": {
          "base_uri": "https://localhost:8080/",
          "height": 36
        },
        "id": "XM3Iz2PJSy03",
        "outputId": "d024d53e-f1d7-4752-b204-b7a11cce2967"
      },
      "execution_count": 175,
      "outputs": [
        {
          "output_type": "execute_result",
          "data": {
            "text/plain": [
              "'Game over'"
            ],
            "application/vnd.google.colaboratory.intrinsic+json": {
              "type": "string"
            }
          },
          "metadata": {},
          "execution_count": 175
        }
      ]
    },
    {
      "cell_type": "code",
      "source": [
        "jumping_frog([4, 1, 6], 2)"
      ],
      "metadata": {
        "colab": {
          "base_uri": "https://localhost:8080/",
          "height": 36
        },
        "id": "ABKkQOJ6Sy27",
        "outputId": "a57d8965-667b-4094-84ad-6e35f5722f2c"
      },
      "execution_count": 176,
      "outputs": [
        {
          "output_type": "execute_result",
          "data": {
            "text/plain": [
              "'Game over'"
            ],
            "application/vnd.google.colaboratory.intrinsic+json": {
              "type": "string"
            }
          },
          "metadata": {},
          "execution_count": 176
        }
      ]
    }
  ]
}